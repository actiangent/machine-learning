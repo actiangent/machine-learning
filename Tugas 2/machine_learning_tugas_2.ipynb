{
  "cells": [
    {
      "cell_type": "markdown",
      "metadata": {
        "id": "dnz1U5Cc_MIO"
      },
      "source": [
        "# TUGAS MACHINE LEARNING\n",
        "\n",
        "**Nama:  Hisyam Fausta**  \n",
        "**NIM:  20210801191**"
      ]
    },
    {
      "cell_type": "markdown",
      "metadata": {
        "id": "viNFpDEL_MIP"
      },
      "source": [
        "# SOAL 1\n",
        "Buatlah identitas diri menggunakan pemograman python sederhana\n"
      ]
    },
    {
      "cell_type": "markdown",
      "source": [],
      "metadata": {
        "id": "GhwWeo_0AEqT"
      }
    },
    {
      "cell_type": "code",
      "execution_count": 8,
      "metadata": {
        "colab": {
          "base_uri": "https://localhost:8080/"
        },
        "id": "wOLvdq2j_MIQ",
        "outputId": "3b76482a-a47c-4de5-f9cf-24eaba946ed0"
      },
      "outputs": [
        {
          "output_type": "stream",
          "name": "stdout",
          "text": [
            "DATA DIRI\n",
            "Nama:  Hisyam Fausta\n",
            "NIM:  20210801191\n",
            "Perkuliahan:  Machine Learning\n"
          ]
        }
      ],
      "source": [
        "# Jawaban soal 1\n",
        "nama = \"Hisyam Fausta\"\n",
        "nim = \"20210801191\"\n",
        "mata_kuliah = \"Machine Learning\"\n",
        "\n",
        "print(\"DATA DIRI\")\n",
        "print(\"Nama: \", nama)\n",
        "print(\"NIM: \", nim)\n",
        "print(\"Perkuliahan: \", mata_kuliah)"
      ]
    },
    {
      "cell_type": "markdown",
      "metadata": {
        "id": "eHNYbjc9_MIR"
      },
      "source": [
        "# SOAL 2\n",
        "Buatlah matriks C dengan orde 2x3, dan nilai yang diberikan pada matriks C adalah sebagai berikut:\n",
        "- Baris 1 Kolom 1, nilai = 1\n",
        "- Baris 1 Kolom 2, nilai = 2\n",
        "- Baris 1 Kolom 3, nilai = 3\n",
        "- Baris 2 Kolom 1, nilai = 4\n",
        "- Baris 2 Kolom 2, nilai = 5\n",
        "- Baris 2 Kolom 3, nilai = 6"
      ]
    },
    {
      "cell_type": "code",
      "execution_count": 2,
      "metadata": {
        "colab": {
          "base_uri": "https://localhost:8080/"
        },
        "id": "v3S-K1_a_MIR",
        "outputId": "e98b26e6-cc34-4b19-f2c3-92aed0095726"
      },
      "outputs": [
        {
          "output_type": "stream",
          "name": "stdout",
          "text": [
            "[[1, 2, 3], [4, 5, 6]]\n"
          ]
        }
      ],
      "source": [
        "# Jawaban soal 2\n",
        "matriks_c= [[1,2,3],[4,5,6]]\n",
        "print(matriks_c)"
      ]
    },
    {
      "cell_type": "markdown",
      "metadata": {
        "id": "5TPwaxAu_MIR"
      },
      "source": [
        "# SOAL 3\n",
        "Buatlah matriks dengan orde 3x2, dengan nilai adalah:\n",
        "- Baris 1 Kolom 1, nilai = 2\n",
        "- Baris 1 Kolom 2, nilai = 2\n",
        "- Baris 2 Kolom 1, nilai = 2\n",
        "- Baris 2 Kolom 2, nilai = 2\n",
        "- Baris 3 Kolom 1, nilai = 2\n",
        "- Baris 3 Kolom 2, nilai = 2"
      ]
    },
    {
      "cell_type": "code",
      "execution_count": 3,
      "metadata": {
        "colab": {
          "base_uri": "https://localhost:8080/"
        },
        "id": "1Q8mk7Pw_MIR",
        "outputId": "f6035282-fe25-4c5a-d4ce-bca7acc7e677"
      },
      "outputs": [
        {
          "output_type": "stream",
          "name": "stdout",
          "text": [
            "[[2, 2], [2, 2], [2, 2]]\n"
          ]
        }
      ],
      "source": [
        "# Jawaban soal 3\n",
        "matriks = [[2,2],[2,2],[2,2]]\n",
        "print(matriks)"
      ]
    },
    {
      "cell_type": "markdown",
      "metadata": {
        "id": "faVg4rIG_MIR"
      },
      "source": [
        "# SOAL 4\n",
        "Importlah library Numpy"
      ]
    },
    {
      "cell_type": "code",
      "execution_count": 4,
      "metadata": {
        "id": "bmp-ln-S_MIR"
      },
      "outputs": [],
      "source": [
        "# Jawaban soal 4\n",
        "import numpy as np"
      ]
    },
    {
      "cell_type": "markdown",
      "metadata": {
        "id": "iVEWtyaN_MIR"
      },
      "source": [
        "# SOAL 5\n",
        "Dengan memanfaatkan library numpy\n",
        "Buatlah matriks dengan menggunakan Library Numpy dengan panjang elemen adalah 32 dan matriks memiliki orde 4x8"
      ]
    },
    {
      "cell_type": "code",
      "execution_count": 5,
      "metadata": {
        "colab": {
          "base_uri": "https://localhost:8080/"
        },
        "id": "NllIs-K9_MIS",
        "outputId": "5b1e9a0e-4137-42f0-f40e-d0e24ef024e4"
      },
      "outputs": [
        {
          "output_type": "stream",
          "name": "stdout",
          "text": [
            "[[ 0  1  2  3  4  5  6  7]\n",
            " [ 8  9 10 11 12 13 14 15]\n",
            " [16 17 18 19 20 21 22 23]\n",
            " [24 25 26 27 28 29 30 31]]\n"
          ]
        }
      ],
      "source": [
        "# Jawaban soal 5\n",
        "from numpy import *\n",
        "matriks = range(32)\n",
        "matriks = reshape(matriks, (4,8))\n",
        "print(matriks)"
      ]
    },
    {
      "cell_type": "markdown",
      "metadata": {
        "id": "kIh2ENAt_MIS"
      },
      "source": [
        "# SOAL 6\n",
        "Buatlah matriks dengan menggunakan Library Numpy dengan orde 3x30, dan nilai elemen dimulai dari indeks 1 sampai dengan 5 secara random."
      ]
    },
    {
      "cell_type": "code",
      "execution_count": 6,
      "metadata": {
        "colab": {
          "base_uri": "https://localhost:8080/"
        },
        "id": "ThnsGyUp_MIS",
        "outputId": "a036e55a-182a-4b54-851e-54b0eda72a1f"
      },
      "outputs": [
        {
          "output_type": "stream",
          "name": "stdout",
          "text": [
            "[[1 1 1 1 1 3 4 2 4 3 1 1 2 3 1 4 1 4 2 4 4 4 3 4 4 3 2 4 3 1]\n",
            " [3 2 3 4 1 1 3 2 1 4 4 3 3 1 2 3 2 3 2 3 2 1 4 3 3 4 1 3 1 1]\n",
            " [4 1 1 2 4 3 4 3 4 1 2 2 2 2 1 4 1 4 3 3 4 1 2 3 4 1 2 2 1 4]]\n"
          ]
        }
      ],
      "source": [
        "# Jawaban soal 6\n",
        "import numpy as np\n",
        "from numpy import *\n",
        "\n",
        "matriks = np.random.randint(1,5,(3,30))\n",
        "print(matriks)\n"
      ]
    }
  ],
  "metadata": {
    "interpreter": {
      "hash": "916dbcbb3f70747c44a77c7bcd40155683ae19c65e1c03b4aa3499c5328201f1"
    },
    "kernelspec": {
      "display_name": "Python 3.8.10 64-bit",
      "language": "python",
      "name": "python3"
    },
    "language_info": {
      "codemirror_mode": {
        "name": "ipython",
        "version": 3
      },
      "file_extension": ".py",
      "mimetype": "text/x-python",
      "name": "python",
      "nbconvert_exporter": "python",
      "pygments_lexer": "ipython3",
      "version": "3.8.10"
    },
    "orig_nbformat": 4,
    "colab": {
      "provenance": []
    }
  },
  "nbformat": 4,
  "nbformat_minor": 0
}